{
  "nbformat": 4,
  "nbformat_minor": 0,
  "metadata": {
    "colab": {
      "name": "Untitled0.ipynb",
      "provenance": [],
      "collapsed_sections": [],
      "authorship_tag": "ABX9TyOFHYuV/MFbTxH5+uqCm0Ki",
      "include_colab_link": true
    },
    "kernelspec": {
      "name": "python3",
      "display_name": "Python 3"
    }
  },
  "cells": [
    {
      "cell_type": "markdown",
      "metadata": {
        "id": "view-in-github",
        "colab_type": "text"
      },
      "source": [
        "<a href=\"https://colab.research.google.com/github/donghuna/DL/blob/master/Untitled0.ipynb\" target=\"_parent\"><img src=\"https://colab.research.google.com/assets/colab-badge.svg\" alt=\"Open In Colab\"/></a>"
      ]
    },
    {
      "cell_type": "code",
      "metadata": {
        "id": "qQSxZOsUc4uC"
      },
      "source": [
        "x = list(range(10))\r\n",
        "y = [1,1,1,1,1,1,3,4,5,6]"
      ],
      "execution_count": 2,
      "outputs": []
    },
    {
      "cell_type": "code",
      "metadata": {
        "colab": {
          "base_uri": "https://localhost:8080/",
          "height": 283
        },
        "id": "C9jjRYCGehWi",
        "outputId": "8a5a610d-3cc8-4175-bcfa-7b1a5339365e"
      },
      "source": [
        "import matplotlib.pyplot as plt\r\n",
        "plt.plot(x,y)\r\n",
        "plt.scatter(x,y)"
      ],
      "execution_count": 6,
      "outputs": [
        {
          "output_type": "execute_result",
          "data": {
            "text/plain": [
              "<matplotlib.collections.PathCollection at 0x7efcd55d1668>"
            ]
          },
          "metadata": {
            "tags": []
          },
          "execution_count": 6
        },
        {
          "output_type": "display_data",
          "data": {
            "image/png": "[encoded data removed]",
            "text/plain": [
              "<Figure size 432x288 with 1 Axes>"
            ]
          },
          "metadata": {
            "tags": [],
            "needs_background": "light"
          }
        }
      ]
    },
    {
      "cell_type": "code",
      "metadata": {
        "id": "QXuOHeEhfanS"
      },
      "source": [
        "def h(x,y):\r\n",
        "  return x*y\r\n",
        "\r\n",
        "def cost(h,x,y):\r\n",
        "  for i in range(len(x)):\r\n",
        "    print(x[i], y[i])\r\n",
        "\r\n"
      ],
      "execution_count": 7,
      "outputs": []
    }
  ]
}