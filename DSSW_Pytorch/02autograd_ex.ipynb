{
  "nbformat": 4,
  "nbformat_minor": 0,
  "metadata": {
    "kernelspec": {
      "display_name": "Python 3",
      "language": "python",
      "name": "python3"
    },
    "language_info": {
      "codemirror_mode": {
        "name": "ipython",
        "version": 3
      },
      "file_extension": ".py",
      "mimetype": "text/x-python",
      "name": "python",
      "nbconvert_exporter": "python",
      "pygments_lexer": "ipython3",
      "version": "3.7.6"
    },
    "colab": {
      "name": "02autograd_ex.ipynb",
      "provenance": [],
      "collapsed_sections": [],
      "include_colab_link": true
    }
  },
  "cells": [
    {
      "cell_type": "markdown",
      "metadata": {
        "id": "view-in-github",
        "colab_type": "text"
      },
      "source": [
        "<a href=\"https://colab.research.google.com/github/donghuna/DL/blob/master/DSSW_Pytorch/02autograd_ex.ipynb\" target=\"_parent\"><img src=\"https://colab.research.google.com/assets/colab-badge.svg\" alt=\"Open In Colab\"/></a>"
      ]
    },
    {
      "cell_type": "markdown",
      "metadata": {
        "id": "7ev9xtnDU0G2",
        "school_cell_uuid": "0be508e1695e4b329b723279d00061ed"
      },
      "source": [
        "## 자동 미분, autograd "
      ]
    },
    {
      "cell_type": "markdown",
      "metadata": {
        "id": "Mx2ij_jgU0G3",
        "school_cell_uuid": "49fe360451c843d1b115b31818e1165b"
      },
      "source": [
        "``autograd`` 패키지는 Tensor의 모든 연산에 대해 자동 미분을 제공한다.\n",
        "이는 실행-기반-정의(define-by-run) 프레임워크로, 이는 코드를 어떻게 작성하여 실행하느냐에 따라 역전파가 정의된다는 뜻이며, 역전파는 학습 과정의 매 단계마다 달라진다.  \n",
        "\n",
        "* autograd는 PyTorch에서 핵심적인 기능을 담당하는 하부 패키지이다.  \n",
        "* autograd는 텐서의 연산에 대해 자동으로 미분값을 구해주는 기능을 한다.\n",
        "* 텐서 자료를 생성할 때, `requires_grad`인수를 `True`로 설정하거나 `.requires_grad_(True)`를 실행하면 그 텐서에 행해지는 모든 연산에 대한 미분값을 계산한다.   \n",
        "* 계산을 멈추고 싶으면 `.detach()`함수를 이용하면 된다. \n",
        "\n",
        "\n",
        "예제를 통해 알아 보도록 하자. `requires_grad`인수를 `True`로 설정하여  Tensor를 생성했다. "
      ]
    },
    {
      "cell_type": "code",
      "metadata": {
        "id": "VmcNPMKdjcZx"
      },
      "source": [
        "import torch"
      ],
      "execution_count": null,
      "outputs": []
    },
    {
      "cell_type": "code",
      "metadata": {
        "colab": {
          "base_uri": "https://localhost:8080/",
          "height": 51
        },
        "id": "Rjj9cX1NU0G3",
        "school_cell_uuid": "3396443a49494a22afb7fb0c7801aaff",
        "outputId": "65cf3c95-f43d-4f53-ba06-da900fcf9574"
      },
      "source": [
        "x = torch.rand(2, 2, requires_grad=True)\n",
        "print(x)"
      ],
      "execution_count": null,
      "outputs": [
        {
          "output_type": "stream",
          "text": [
            "tensor([[0.4475, 0.1027],\n",
            "        [0.2622, 0.1694]], requires_grad=True)\n"
          ],
          "name": "stdout"
        }
      ]
    },
    {
      "cell_type": "markdown",
      "metadata": {
        "id": "pe3UmFHEU0G6",
        "school_cell_uuid": "bbe2ffda94494f22aff74255a81349f0"
      },
      "source": [
        "다음으로 이 x에 연산을 수행한다. 다음 코드의 y는 연산의 결과이므로 미분 함수를 가진다. `grad_fn`속성을 출력해 미분 함수를 확인 할 수 있다. "
      ]
    },
    {
      "cell_type": "code",
      "metadata": {
        "colab": {
          "base_uri": "https://localhost:8080/",
          "height": 34
        },
        "id": "DbM8mcngU0G7",
        "school_cell_uuid": "d3fd2bc942a94648b083b9f6d22887b4",
        "outputId": "cedad3f8-ae83-44ed-b0f6-7537c1006cfb"
      },
      "source": [
        "y = torch.sum(x * 3)\n",
        "print(y, y.grad_fn)"
      ],
      "execution_count": null,
      "outputs": [
        {
          "output_type": "stream",
          "text": [
            "tensor(2.9451, grad_fn=<SumBackward0>) <SumBackward0 object at 0x000001C5D65E1DC8>\n"
          ],
          "name": "stdout"
        }
      ]
    },
    {
      "cell_type": "markdown",
      "metadata": {
        "id": "tHMz6Oz0U0G9",
        "school_cell_uuid": "85d36e8f00a4460abff07fb15125a86e"
      },
      "source": [
        "`y.backward()` 함수를 실행하면 x의 미분값이 자동으로 갱신된다. x의 `grad`속성을 확인하면 미분값이 들어 있는 것을 확인 할 수 있다. y를 구하기 위한 x의 연산을 수식으로 쓰면 다음과 같다. \n",
        "\n",
        "$$\n",
        "y = \\displaystyle\\sum_{i=1}^4 3 \\times x_i\n",
        "$$\n",
        "\n",
        "이를 $x_i$에 대해 미분 하면 미분 함수는 다음과 같다. \n",
        "\n",
        "$$\n",
        "\\dfrac{\\partial y}{\\partial x_i} = 3\n",
        "$$\n",
        "\n",
        "실제 미분값과 같은지 확인해보자."
      ]
    },
    {
      "cell_type": "code",
      "metadata": {
        "colab": {
          "base_uri": "https://localhost:8080/",
          "height": 34
        },
        "id": "OEeR1Oh4U0G-",
        "school_cell_uuid": "f345c4eb6f7b4cda9ef4ce286e1a62c5",
        "outputId": "1d864805-1c33-4832-9bee-888ea2028820"
      },
      "source": [
        "print(x.grad)"
      ],
      "execution_count": null,
      "outputs": [
        {
          "output_type": "stream",
          "text": [
            "None\n"
          ],
          "name": "stdout"
        }
      ]
    },
    {
      "cell_type": "code",
      "metadata": {
        "id": "U65HX9vEU0HB",
        "school_cell_uuid": "52d6d6b52cf14a23b4cd076f7b0963d1"
      },
      "source": [
        "y.backward(retain_graph=True)"
      ],
      "execution_count": null,
      "outputs": []
    },
    {
      "cell_type": "code",
      "metadata": {
        "colab": {
          "base_uri": "https://localhost:8080/",
          "height": 51
        },
        "id": "6PmT-yBFU0HE",
        "school_cell_uuid": "bfcfdfea33f843fbabb7c58305594b1f",
        "outputId": "cb7b9df0-3eaa-4d12-de23-c1d1cfb47309"
      },
      "source": [
        "x.grad"
      ],
      "execution_count": null,
      "outputs": [
        {
          "output_type": "execute_result",
          "data": {
            "text/plain": [
              "tensor([[3., 3.],\n",
              "        [3., 3.]])"
            ]
          },
          "metadata": {
            "tags": []
          },
          "execution_count": 6
        }
      ]
    },
    {
      "cell_type": "markdown",
      "metadata": {
        "id": "J_jJvUmpU0HH",
        "school_cell_uuid": "912bc4592afa4dc3a7ae47a96278601a"
      },
      "source": [
        "* ``.backward()`` 를 호출하여 모든 변화도(gradient)를 자동으로 계산할 수 있다.  \n",
        "* 모든 연산 과정을 encode 하여 순환하지 않는 그래프(acyclic graph)를 생성한다.  \n",
        "* 각 tensor는 ``.grad_fn`` 속성을 갖고 있는데, 이는 ``Tensor`` 를 생성한 ``Function`` 을 참조하고 있다. \n",
        "\n",
        "* `backward()`함수는 자동으로 미분값을 계산해 `requires_grad`인수가 True로 설정된 변수의 `grad`속성의 값을 갱신한다.\n",
        "* 미분값을 그대로 출력받아 사용하고 싶은 경우에는 `torch.autograd.grad()`함수에 출력값과 입력값을 입력하면 미분값을 출력한다. "
      ]
    },
    {
      "cell_type": "code",
      "metadata": {
        "colab": {
          "base_uri": "https://localhost:8080/",
          "height": 51
        },
        "id": "RRdIQtotU0HH",
        "school_cell_uuid": "39d3203d06944519aa6b7c16e98aeda6",
        "outputId": "53565a86-fe43-4e27-ac58-95bf257368c2"
      },
      "source": [
        "torch.autograd.grad(y, x)"
      ],
      "execution_count": null,
      "outputs": [
        {
          "output_type": "execute_result",
          "data": {
            "text/plain": [
              "(tensor([[3., 3.],\n",
              "         [3., 3.]]),)"
            ]
          },
          "metadata": {
            "tags": []
          },
          "execution_count": 7
        }
      ]
    },
    {
      "cell_type": "markdown",
      "metadata": {
        "id": "5aFWG_EnU0HK",
        "school_cell_uuid": "a075cd7db9344c589ce6018801d4b519"
      },
      "source": [
        "상황에 따라 특정 연산에는 미분값을 계산하고 싶지 않은 경우에는 `.detach()`함수를 사용한다. 예를 들어, 이전 코드의 결과 값 `y`에 로지스틱 함수 연산을 수행하고 이에 대한 미분 값을 계산 하고 싶지 않은 경우에 다음처럼 할 수 있다. "
      ]
    },
    {
      "cell_type": "code",
      "metadata": {
        "school_cell_uuid": "cc57a8f14f6846e2b70a1c276d3e408b",
        "id": "tJuAuO3EjcZ5",
        "outputId": "ad165af9-6848-434e-cd03-24bb559c6ca7"
      },
      "source": [
        "y_1 = y.detach()\n",
        "torch.sigmoid(y_1)"
      ],
      "execution_count": null,
      "outputs": [
        {
          "output_type": "execute_result",
          "data": {
            "text/plain": [
              "tensor(0.9500)"
            ]
          },
          "metadata": {
            "tags": []
          },
          "execution_count": 8
        }
      ]
    },
    {
      "cell_type": "markdown",
      "metadata": {
        "id": "lf_JvGM7jcZ5"
      },
      "source": [
        "또한 ``with torch.no_grad():`` 로 코드 블럭을 감싸서 autograd가  \n",
        "``.requires_grad=True`` 인 Tensor들의 연산 기록을 추적하는 것을 멈출 수 있다."
      ]
    },
    {
      "cell_type": "code",
      "metadata": {
        "id": "KP1aUHEHjcZ6",
        "outputId": "de278aea-9c16-4081-c55e-e6096fea7041"
      },
      "source": [
        "x = torch.randn(3, requires_grad=True)\n",
        "\n",
        "print(x.requires_grad)\n",
        "print((x ** 2).requires_grad)\n",
        "\n",
        "with torch.no_grad():\n",
        "    print((x ** 2).requires_grad)"
      ],
      "execution_count": null,
      "outputs": [
        {
          "output_type": "stream",
          "text": [
            "True\n",
            "True\n",
            "False\n"
          ],
          "name": "stdout"
        }
      ]
    },
    {
      "cell_type": "markdown",
      "metadata": {
        "id": "Xl7lNZmZjcZ7"
      },
      "source": [
        "# Autograd 연습\n",
        "\n",
        "autograd는 텐서의 연산에 대해 자동으로 미분값을 구해주는 기능을 한다. 텐서 자료를 생성할 때, requires_grad인수를 True로 설정하거나 .requires_grad_(True)로 설정한다."
      ]
    },
    {
      "cell_type": "code",
      "metadata": {
        "id": "uEkaJC-ajcZ8"
      },
      "source": [
        "import torch"
      ],
      "execution_count": null,
      "outputs": []
    },
    {
      "cell_type": "markdown",
      "metadata": {
        "id": "cgFsEnESjcZ9"
      },
      "source": [
        "1. 다음과 같은 텐서를 생성하시오.\n",
        "```\n",
        "x = torch.tensor(2.0, requires_grad=True)\n",
        "y = 9*x**4 + 2*x**3 + 3*x**2 + 6*x +1\n",
        "```"
      ]
    },
    {
      "cell_type": "code",
      "metadata": {
        "id": "yyRW2VY-jcZ-"
      },
      "source": [
        ""
      ],
      "execution_count": null,
      "outputs": []
    },
    {
      "cell_type": "markdown",
      "metadata": {
        "id": "S1UP1jCgjcZ-"
      },
      "source": [
        "2. y를 x에 대해 미분하고 그 값을 출력해 보시오. .backward()를 사용하면 자동으로 미분값을 계산한다."
      ]
    },
    {
      "cell_type": "code",
      "metadata": {
        "id": "w8XrGq8ljcZ-"
      },
      "source": [
        ""
      ],
      "execution_count": null,
      "outputs": []
    },
    {
      "cell_type": "markdown",
      "metadata": {
        "id": "VUPgezLojcZ_"
      },
      "source": [
        "3. 다음과 같은 텐서를 생성하시오.\n",
        "```\n",
        "x = torch.tensor(1.0, requires_grad=True)\n",
        "z = torch.tensor(2.0, requires_grad=True)\n",
        "y = x**2 + z**3\n",
        "```"
      ]
    },
    {
      "cell_type": "code",
      "metadata": {
        "id": "_Z4yqtUbjcZ_"
      },
      "source": [
        ""
      ],
      "execution_count": null,
      "outputs": []
    },
    {
      "cell_type": "markdown",
      "metadata": {
        "id": "2-zhlrKXjcaA"
      },
      "source": [
        "4. 3번에서 생성한 텐서에서 y를 x에 대해 편미분한 값과 y를 z에 대해 편미분한 값을 출력하시오."
      ]
    },
    {
      "cell_type": "code",
      "metadata": {
        "id": "LlH5sVD3jcaA"
      },
      "source": [
        ""
      ],
      "execution_count": null,
      "outputs": []
    },
    {
      "cell_type": "markdown",
      "metadata": {
        "id": "rbT6Y_4ljcaA"
      },
      "source": [
        "5. 3번에서 생성한 x의 값을 출력해 보시오. .data를 사용한다."
      ]
    },
    {
      "cell_type": "code",
      "metadata": {
        "id": "7kI6roB4jcaA"
      },
      "source": [
        ""
      ],
      "execution_count": null,
      "outputs": []
    }
  ]
}